{
 "cells": [
  {
   "cell_type": "markdown",
   "id": "a9baa440-d135-454c-9881-3f81d88299c2",
   "metadata": {},
   "source": [
    "## 10th march assignment"
   ]
  },
  {
   "cell_type": "markdown",
   "id": "16aea8cd-1706-4d0a-b506-44058afca228",
   "metadata": {},
   "source": [
    "## 1.ans:->"
   ]
  },
  {
   "cell_type": "code",
   "execution_count": null,
   "id": "fbf08bab-14c6-4771-bf1c-539ea514caf3",
   "metadata": {},
   "outputs": [],
   "source": [
    "Estimation in statistics refers to the process of estimating unknown population parameters based on sample\n",
    "data. It involves using statistical techniques to infer or approximate the values of parameters such as means,\n",
    "proportions, variances, and more. Estimation helps us make informed decisions and draw conclusions about\n",
    "populations based on the information gathered from samples.\n",
    "\n",
    "There are two common types of estimates in statistics: point estimates and interval estimates:-\n",
    "\n",
    "1- Point Estimate: A point estimate is a single value that is used to estimate an unknown population parameter. It\n",
    "provides an approximate value for the parameter but does not give any indication of the uncertainty associated with\n",
    "the estimate. Point estimates are often calculated using sample statistics. For example, the sample mean can be used\n",
    "as a point estimate for the population mean, or the sample proportion can be used as a point estimate for the\n",
    "population proportion.\n",
    "\n",
    "2- Interval Estimate: An interval estimate, also known as a confidence interval, provides a range of values within\n",
    "which the population parameter is likely to fall. Unlike a point estimate, an interval estimate incorporates a\n",
    "measure of uncertainty associated with the estimate. It gives us an idea of how precise our estimate is and provides\n",
    "a level of confidence in capturing the true population parameter. \n"
   ]
  },
  {
   "cell_type": "markdown",
   "id": "749d39be-5e91-4093-9f56-f6364b6f1dff",
   "metadata": {},
   "source": [
    "## 2:ans:->"
   ]
  },
  {
   "cell_type": "code",
   "execution_count": 10,
   "id": "99d6375f-2eed-4c77-a71c-1c65c2dcd70f",
   "metadata": {},
   "outputs": [],
   "source": [
    "import math\n",
    "\n",
    "def estimate_population_mean(sample_mean, sample_std_deviation, sample_size):\n",
    "    # Calculating the standard error\n",
    "    standard_error = sample_std_deviation / math.sqrt(sample_size)\n",
    "    \n",
    "    # Calculating the margin of error (assuming a 95% confidence interval)\n",
    "    margin_of_error = 1.96 * standard_error\n",
    "    \n",
    "    # Calculating the lower and upper bounds of the confidence interval\n",
    "    lower_bound = sample_mean - margin_of_error\n",
    "    upper_bound = sample_mean + margin_of_error\n",
    "    \n",
    "    # Returning the estimated population mean and confidence interval\n",
    "    return sample_mean, (lower_bound, upper_bound)\n"
   ]
  },
  {
   "cell_type": "code",
   "execution_count": 11,
   "id": "97fd2627-2519-4757-b8f0-975fff062eba",
   "metadata": {},
   "outputs": [
    {
     "name": "stdout",
     "output_type": "stream",
     "text": [
      "Estimated population mean: 50\n",
      "Confidence interval: (49.02, 50.98)\n"
     ]
    }
   ],
   "source": [
    "sample_mean = 50\n",
    "sample_std_deviation = 5\n",
    "sample_size = 100\n",
    "\n",
    "estimated_mean, confidence_interval = estimate_population_mean(sample_mean, sample_std_deviation, sample_size)\n",
    "\n",
    "print(\"Estimated population mean:\", estimated_mean)\n",
    "print(\"Confidence interval:\", confidence_interval)\n"
   ]
  },
  {
   "cell_type": "markdown",
   "id": "f28b8346-bb52-404d-b31d-3cb62c5a010e",
   "metadata": {},
   "source": [
    "## 3:ans:->"
   ]
  },
  {
   "cell_type": "code",
   "execution_count": null,
   "id": "e38d3ee7-730f-42b4-ab4b-68462f6214e9",
   "metadata": {},
   "outputs": [],
   "source": [
    "Hypothesis testing is a statistical procedure used to make inferences and draw conclusions about a\n",
    "population based on a sample of data. It involves formulating two competing hypotheses: the null\n",
    "hypothesis (H0) and the alternative hypothesis (H1 or Ha). The null hypothesis represents the default\n",
    "or conservative assumption, while the alternative hypothesis represents the claim or research question\n",
    "that is being tested.\n",
    "\n",
    "The purpose of hypothesis testing is to assess the evidence in favor of or against the alternative hypothesis\n",
    "by examining the sample data. It helps to make objective decisions and draw reliable conclusions about the\n",
    "population parameters or relationships between variables. Hypothesis testing is commonly used in scientific \n",
    "research, quality control, market research, and various fields of study to validate or refute claims or theories.\n",
    "\n",
    "The importance of hypothesis testing can be summarized as follows:\n",
    "\n",
    "1 - Objectivity: Hypothesis testing provides a systematic framework for evaluating evidence and making objective\n",
    "    decisions based on data rather than subjective opinions or beliefs.\n",
    "\n",
    "2 - Inference: It allows researchers to make inferences about a population using a smaller sample, which can be\n",
    "    more practical and cost-effective than collecting data from the entire population.\n",
    "\n",
    "3 - Decision-making: Hypothesis testing helps decision-makers in various fields, such as business, medicine, and \n",
    "    policy-making, to make informed choices based on statistical evidence.\n",
    "\n",
    "4 - Scientific validity: By subjecting research hypotheses to rigorous testing, hypothesis testing ensures that \n",
    "    scientific studies meet standards of validity and reliability.\n",
    "\n",
    "5 - Error control: Hypothesis testing provides a framework for controlling and quantifying two types of errors:\n",
    "    Type I error (rejecting the null hypothesis when it is true) and Type II error (failing to reject the null hypothesis\n",
    "                                                                                    when it is false).\n",
    "    "
   ]
  },
  {
   "cell_type": "markdown",
   "id": "fc19b8a6-fec4-4602-b5df-b7eeca80198e",
   "metadata": {},
   "source": [
    "## 4:ans:-"
   ]
  },
  {
   "cell_type": "code",
   "execution_count": null,
   "id": "e9c35db2-8eb7-4808-ba5d-f3ad1c2d2f6c",
   "metadata": {},
   "outputs": [],
   "source": [
    "Hypothesis: The average weight of male college students is greater than the average weight of female college students.\n",
    "\n",
    "Null Hypothesis (H₀): The average weight of male college students is equal to or less than the average weight\n",
    "of female college students.\n",
    "\n",
    "Alternative Hypothesis (H₁): The average weight of male college students is greater than the average weight\n",
    "of female college students."
   ]
  },
  {
   "cell_type": "markdown",
   "id": "f0c57396-1501-4412-a3de-db15e1995d47",
   "metadata": {},
   "source": [
    "## 5.ans:-"
   ]
  },
  {
   "cell_type": "code",
   "execution_count": 1,
   "id": "3a83a961-cfc8-4e97-bb5f-1add1412b850",
   "metadata": {},
   "outputs": [
    {
     "name": "stdout",
     "output_type": "stream",
     "text": [
      "Reject the null hypothesis. There is a significant difference between the population means.\n",
      "t-statistic: -5.0\n",
      "p-value: 0.001052825793366539\n"
     ]
    }
   ],
   "source": [
    "import scipy.stats as stats\n",
    "\n",
    "# Sample data from population 1\n",
    "sample1 = [1, 2, 3, 4, 5]\n",
    "\n",
    "# Sample data from population 2\n",
    "sample2 = [6, 7, 8, 9, 10]\n",
    "\n",
    "# Set the significance level (alpha value)\n",
    "alpha = 0.05\n",
    "\n",
    "# Perform the two-sample t-test\n",
    "t_statistic, p_value = stats.ttest_ind(sample1, sample2)\n",
    "\n",
    "# Check if the p-value is less than alpha to reject the null hypothesis\n",
    "if p_value < alpha:\n",
    "    print(\"Reject the null hypothesis. There is a significant difference between the population means.\")\n",
    "else:\n",
    "    print(\"Fail to reject the null hypothesis. There is no significant difference between the population means.\")\n",
    "\n",
    "# Print the t-statistic and p-value\n",
    "print(\"t-statistic:\", t_statistic)\n",
    "print(\"p-value:\", p_value)\n"
   ]
  },
  {
   "cell_type": "markdown",
   "id": "8faff699-5f29-4aef-815a-1545171d9e14",
   "metadata": {},
   "source": [
    "## 6.ans:-"
   ]
  },
  {
   "cell_type": "code",
   "execution_count": null,
   "id": "dc4121b5-8075-40ac-a072-6bbb25eee369",
   "metadata": {},
   "outputs": [],
   "source": [
    "The null hypothesis (H0) is a statement of no effect or no difference in the population. It assumes that\n",
    "any observed differences or relationships in the data are due to chance or random variation. The goal of\n",
    "hypothesis testing is to gather evidence to either support or reject the null hypothesis.\n",
    "\n",
    "The alternative hypothesis (H1 or HA) is the opposite of the null hypothesis. It suggests that there is a\n",
    "specific effect, relationship, or difference in the population. If the evidence is strong enough, we reject\n",
    "the null hypothesis in favor of the alternative hypothesis.\n",
    "\n",
    "example :-\n",
    "\n",
    " A new drug is tested to determine its effectiveness in treating a certain disease.\n",
    "\n",
    "Null hypothesis (H0): The new drug has no effect on the disease.\n",
    "Alternative hypothesis (H1): The new drug has a significant effect on the disease."
   ]
  },
  {
   "cell_type": "markdown",
   "id": "334e9a1a-ed08-4a03-aae2-71c07bf8dfa1",
   "metadata": {},
   "source": [
    "## 7.ans:-"
   ]
  },
  {
   "cell_type": "code",
   "execution_count": null,
   "id": "ff0dfe8d-a227-4aa1-b55a-cbef565dcb83",
   "metadata": {},
   "outputs": [],
   "source": [
    "Hypothesis testing is a statistical method used to make inferences and draw conclusions about a population\n",
    "based on a sample. The following are the general steps involved in hypothesis testing:\n",
    "\n",
    "1: State the null hypothesis (H0) and the alternative hypothesis (H1)\n",
    "2: Determine the significance level (α)\n",
    "3: Select the appropriate test statistic\n",
    "4: Collect and analyze the sample\n"
   ]
  },
  {
   "cell_type": "markdown",
   "id": "7b57b875-440f-4d74-a0f2-20aa68af4b7d",
   "metadata": {},
   "source": [
    "## 8.ans:-"
   ]
  },
  {
   "cell_type": "code",
   "execution_count": null,
   "id": "af738f85-45d7-43e5-90c1-93ab08fdddb9",
   "metadata": {},
   "outputs": [],
   "source": [
    "The p-value is a statistical measure used in hypothesis testing to determine the strength of evidence against\n",
    "a null hypothesis. It quantifies the probability of obtaining the observed data, or more extreme results,\n",
    "assuming that the null hypothesis is true.\n",
    "\n",
    "The p-value is a probability that ranges between 0 and 1. If the p-value is small (typically below a predetermined \n",
    "significance level, such as 0.05), it suggests that the observed data is unlikely to have occurred under the null\n",
    "hypothesis. In such cases, researchers reject the null hypothesis and conclude that there is sufficient evidence\n",
    "to support the alternative hypothesis."
   ]
  },
  {
   "cell_type": "markdown",
   "id": "f154b7ab-d020-4978-91da-1f172852e26f",
   "metadata": {},
   "source": [
    "## 9.ans:-"
   ]
  },
  {
   "cell_type": "code",
   "execution_count": null,
   "id": "3c7bde4a-8eee-4e7b-a79d-379230544aa5",
   "metadata": {},
   "outputs": [],
   "source": [
    "The t-statistic is a measure used in hypothesis testing to determine the statistical significance of an estimated\n",
    "value or difference between groups. It is derived from the t-distribution, which is similar to the standard normal\n",
    "distribution but has heavier tails.\n",
    "\n",
    "The t-statistic is calculated as the ratio of the difference between the sample mean and the hypothesized\n",
    "population mean, divided by the standard error of the sample mean. In mathematical terms, it is often represented as:\n",
    "\n",
    "t = (sample mean - hypothesized mean) / (standard error of the mean)\n"
   ]
  },
  {
   "cell_type": "markdown",
   "id": "bf1818ff-8a3a-412a-9d0e-fb04f590b406",
   "metadata": {},
   "source": [
    "## 10.ans:-"
   ]
  },
  {
   "cell_type": "code",
   "execution_count": null,
   "id": "12f46661-7f5d-433d-83ea-31d93e06885c",
   "metadata": {},
   "outputs": [],
   "source": [
    "The term \"students distribution\" typically refers to the Student's t-distribution, also known as the t-distribution. It is a probability distribution that is used in statistical inference for small sample sizes when the population standard deviation is unknown. The t-distribution arises when estimating the mean of a normally distributed population based on a small sample.\n",
    "\n",
    "The t-distribution is similar in shape to the normal distribution, but it has thicker tails, which means it allows for more variability in the data. This makes it useful when dealing with small sample sizes and when the population standard deviation is unknown."
   ]
  }
 ],
 "metadata": {
  "kernelspec": {
   "display_name": "Python 3 (ipykernel)",
   "language": "python",
   "name": "python3"
  },
  "language_info": {
   "codemirror_mode": {
    "name": "ipython",
    "version": 3
   },
   "file_extension": ".py",
   "mimetype": "text/x-python",
   "name": "python",
   "nbconvert_exporter": "python",
   "pygments_lexer": "ipython3",
   "version": "3.10.8"
  }
 },
 "nbformat": 4,
 "nbformat_minor": 5
}
